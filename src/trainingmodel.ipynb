{
 "cells": [
  {
   "cell_type": "code",
   "execution_count": 17,
   "metadata": {},
   "outputs": [],
   "source": [
    "# data processing tools\n",
    "import string, os \n",
    "import pandas as pd\n",
    "import numpy as np\n",
    "np.random.seed(42)\n",
    "\n",
    "# keras module for building LSTM \n",
    "import tensorflow as tf\n",
    "tf.random.set_seed(42)\n",
    "import tensorflow.keras.utils as ku \n",
    "from tensorflow.keras.models import Sequential\n",
    "from tensorflow.keras.preprocessing.text import Tokenizer\n",
    "from tensorflow.keras.preprocessing.sequence import pad_sequences\n",
    "from tensorflow.keras.layers import Embedding, LSTM, Dense, Dropout\n",
    "\n",
    "# surpress warnings\n",
    "import warnings\n",
    "warnings.filterwarnings(\"ignore\")\n",
    "warnings.simplefilter(action='ignore', category=FutureWarning) # Ignore warnings from libraries. \n",
    "\n",
    "import sys\n",
    "sys.path.append(\"..\")\n",
    "import utils.requirement_functions as rf"
   ]
  },
  {
   "cell_type": "code",
   "execution_count": 18,
   "metadata": {},
   "outputs": [
    {
     "name": "stdout",
     "output_type": "stream",
     "text": [
      "Loading data\n"
     ]
    }
   ],
   "source": [
    "# Loading data \n",
    "print(\"Loading data\")\n",
    "data_dir = os.path.join(\"..\",\"data\", \"news_data\")\n"
   ]
  },
  {
   "cell_type": "code",
   "execution_count": 8,
   "metadata": {},
   "outputs": [
    {
     "data": {
      "text/plain": [
       "'../data/news_data'"
      ]
     },
     "execution_count": 8,
     "metadata": {},
     "output_type": "execute_result"
    }
   ],
   "source": [
    "data_dir"
   ]
  },
  {
   "cell_type": "code",
   "execution_count": 19,
   "metadata": {},
   "outputs": [],
   "source": [
    "# Appending columns \n",
    "all_comments = []\n",
    "for filename in os.listdir(data_dir):\n",
    "    if 'Comments' in filename:\n",
    "        comment_df = pd.read_csv(data_dir + \"/\" + filename) # joining data_dir / filename. ( Creating dataframe)\n",
    "        all_comments.extend(list(comment_df[\"commentBody\"].values)) # Creating a list of only comments. "
   ]
  },
  {
   "cell_type": "code",
   "execution_count": 20,
   "metadata": {},
   "outputs": [
    {
     "data": {
      "text/plain": [
       "2176364"
      ]
     },
     "execution_count": 20,
     "metadata": {},
     "output_type": "execute_result"
    }
   ],
   "source": [
    "len(all_comments)"
   ]
  },
  {
   "cell_type": "markdown",
   "metadata": {},
   "source": [
    "# Cleaning text"
   ]
  },
  {
   "cell_type": "code",
   "execution_count": 22,
   "metadata": {},
   "outputs": [
    {
     "ename": "NameError",
     "evalue": "name 'string' is not defined",
     "output_type": "error",
     "traceback": [
      "\u001b[0;31m---------------------------------------------------------------------------\u001b[0m",
      "\u001b[0;31mNameError\u001b[0m                                 Traceback (most recent call last)",
      "Cell \u001b[0;32mIn[22], line 1\u001b[0m\n\u001b[0;32m----> 1\u001b[0m corpus \u001b[39m=\u001b[39m [rf\u001b[39m.\u001b[39mclean_text(x) \u001b[39mfor\u001b[39;00m x \u001b[39min\u001b[39;00m all_comments]\n\u001b[1;32m      2\u001b[0m corpus[:\u001b[39m10\u001b[39m]\n",
      "Cell \u001b[0;32mIn[22], line 1\u001b[0m, in \u001b[0;36m<listcomp>\u001b[0;34m(.0)\u001b[0m\n\u001b[0;32m----> 1\u001b[0m corpus \u001b[39m=\u001b[39m [rf\u001b[39m.\u001b[39;49mclean_text(x) \u001b[39mfor\u001b[39;00m x \u001b[39min\u001b[39;00m all_comments]\n\u001b[1;32m      2\u001b[0m corpus[:\u001b[39m10\u001b[39m]\n",
      "File \u001b[0;32m/work/Language-Analytics/assignment-3---rnns-for-text-generation-Augustseverinandersen/utils/requirement_functions.py:3\u001b[0m, in \u001b[0;36mclean_text\u001b[0;34m(txt)\u001b[0m\n\u001b[1;32m      1\u001b[0m \u001b[39mdef\u001b[39;00m \u001b[39mclean_text\u001b[39m(txt): \u001b[39m# return vocab if it is not part of string.punctuation \u001b[39;00m\n\u001b[1;32m      2\u001b[0m     \u001b[39m# string.punctuation is a python model. ( a list of all string characters that er punctuations /%&¤#\";:_-.,*\")\u001b[39;00m\n\u001b[0;32m----> 3\u001b[0m     txt \u001b[39m=\u001b[39m \u001b[39m\"\u001b[39;49m\u001b[39m\"\u001b[39;49m\u001b[39m.\u001b[39;49mjoin(v \u001b[39mfor\u001b[39;49;00m v \u001b[39min\u001b[39;49;00m txt \u001b[39mif\u001b[39;49;00m v \u001b[39mnot\u001b[39;49;00m \u001b[39min\u001b[39;49;00m string\u001b[39m.\u001b[39;49mpunctuation)\u001b[39m.\u001b[39mlower() \u001b[39m# Making lower case \u001b[39;00m\n\u001b[1;32m      4\u001b[0m     txt \u001b[39m=\u001b[39m txt\u001b[39m.\u001b[39mencode(\u001b[39m\"\u001b[39m\u001b[39mutf8\u001b[39m\u001b[39m\"\u001b[39m)\u001b[39m.\u001b[39mdecode(\u001b[39m\"\u001b[39m\u001b[39mascii\u001b[39m\u001b[39m\"\u001b[39m,\u001b[39m'\u001b[39m\u001b[39mignore\u001b[39m\u001b[39m'\u001b[39m) \u001b[39m# encoding utf8\u001b[39;00m\n\u001b[1;32m      5\u001b[0m     \u001b[39mreturn\u001b[39;00m txt\n",
      "File \u001b[0;32m/work/Language-Analytics/assignment-3---rnns-for-text-generation-Augustseverinandersen/utils/requirement_functions.py:3\u001b[0m, in \u001b[0;36m<genexpr>\u001b[0;34m(.0)\u001b[0m\n\u001b[1;32m      1\u001b[0m \u001b[39mdef\u001b[39;00m \u001b[39mclean_text\u001b[39m(txt): \u001b[39m# return vocab if it is not part of string.punctuation \u001b[39;00m\n\u001b[1;32m      2\u001b[0m     \u001b[39m# string.punctuation is a python model. ( a list of all string characters that er punctuations /%&¤#\";:_-.,*\")\u001b[39;00m\n\u001b[0;32m----> 3\u001b[0m     txt \u001b[39m=\u001b[39m \u001b[39m\"\u001b[39m\u001b[39m\"\u001b[39m\u001b[39m.\u001b[39mjoin(v \u001b[39mfor\u001b[39;00m v \u001b[39min\u001b[39;00m txt \u001b[39mif\u001b[39;00m v \u001b[39mnot\u001b[39;00m \u001b[39min\u001b[39;00m string\u001b[39m.\u001b[39mpunctuation)\u001b[39m.\u001b[39mlower() \u001b[39m# Making lower case \u001b[39;00m\n\u001b[1;32m      4\u001b[0m     txt \u001b[39m=\u001b[39m txt\u001b[39m.\u001b[39mencode(\u001b[39m\"\u001b[39m\u001b[39mutf8\u001b[39m\u001b[39m\"\u001b[39m)\u001b[39m.\u001b[39mdecode(\u001b[39m\"\u001b[39m\u001b[39mascii\u001b[39m\u001b[39m\"\u001b[39m,\u001b[39m'\u001b[39m\u001b[39mignore\u001b[39m\u001b[39m'\u001b[39m) \u001b[39m# encoding utf8\u001b[39;00m\n\u001b[1;32m      5\u001b[0m     \u001b[39mreturn\u001b[39;00m txt\n",
      "\u001b[0;31mNameError\u001b[0m: name 'string' is not defined"
     ]
    }
   ],
   "source": [
    "corpus = [rf.clean_text(x) for x in all_comments]\n",
    "corpus[:10]"
   ]
  }
 ],
 "metadata": {
  "kernelspec": {
   "display_name": "Python 3",
   "language": "python",
   "name": "python3"
  },
  "language_info": {
   "codemirror_mode": {
    "name": "ipython",
    "version": 3
   },
   "file_extension": ".py",
   "mimetype": "text/x-python",
   "name": "python",
   "nbconvert_exporter": "python",
   "pygments_lexer": "ipython3",
   "version": "3.9.2"
  },
  "orig_nbformat": 4,
  "vscode": {
   "interpreter": {
    "hash": "767d51c1340bd893661ea55ea3124f6de3c7a262a8b4abca0554b478b1e2ff90"
   }
  }
 },
 "nbformat": 4,
 "nbformat_minor": 2
}
